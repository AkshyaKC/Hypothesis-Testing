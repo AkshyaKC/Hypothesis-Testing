{
 "cells": [
  {
   "cell_type": "code",
   "execution_count": 2,
   "metadata": {},
   "outputs": [],
   "source": [
    "import pandas as pd"
   ]
  },
  {
   "cell_type": "code",
   "execution_count": 3,
   "metadata": {},
   "outputs": [],
   "source": [
    "match=pd.read_csv('./datasets/match.csv')\n",
    "player=pd.read_csv('./datasets/player_match.csv')\n"
   ]
  },
  {
   "cell_type": "code",
   "execution_count": 4,
   "metadata": {},
   "outputs": [
    {
     "data": {
      "text/plain": [
       "Index(['match_sk', 'match_id', 'team1', 'team2', 'match_date', 'season_year',\n",
       "       'venue_name', 'city_name', 'country_name', 'toss_winner',\n",
       "       'match_winner', 'toss_name', 'win_type', 'outcome_type', 'manofmach',\n",
       "       'win_margin', 'country_id'],\n",
       "      dtype='object')"
      ]
     },
     "execution_count": 4,
     "metadata": {},
     "output_type": "execute_result"
    }
   ],
   "source": [
    "match.columns"
   ]
  },
  {
   "cell_type": "code",
   "execution_count": 5,
   "metadata": {},
   "outputs": [
    {
     "data": {
      "text/plain": [
       "Index(['player_match_sk', 'playermatch_key', 'match_id', 'player_id',\n",
       "       'player_name', 'dob', 'batting_hand', 'bowling_skill', 'country_name',\n",
       "       'role_desc', 'player_team', 'opposit_team', 'season_year',\n",
       "       'is_manofthematch', 'age_as_on_match', 'isplayers_team_won',\n",
       "       'batting_status', 'bowling_status', 'player_captain', 'opposit_captain',\n",
       "       'player_keeper', 'opposit_keeper'],\n",
       "      dtype='object')"
      ]
     },
     "execution_count": 5,
     "metadata": {},
     "output_type": "execute_result"
    }
   ],
   "source": [
    "player.columns"
   ]
  },
  {
   "cell_type": "code",
   "execution_count": 6,
   "metadata": {},
   "outputs": [],
   "source": [
    "match_columns=match[['match_id', 'match_winner', 'manofmach']].copy()\n",
    "player_columns=player[['match_id','player_name','player_team']].copy()"
   ]
  },
  {
   "cell_type": "code",
   "execution_count": 7,
   "metadata": {},
   "outputs": [
    {
     "data": {
      "text/html": [
       "<div>\n",
       "<style scoped>\n",
       "    .dataframe tbody tr th:only-of-type {\n",
       "        vertical-align: middle;\n",
       "    }\n",
       "\n",
       "    .dataframe tbody tr th {\n",
       "        vertical-align: top;\n",
       "    }\n",
       "\n",
       "    .dataframe thead th {\n",
       "        text-align: right;\n",
       "    }\n",
       "</style>\n",
       "<table border=\"1\" class=\"dataframe\">\n",
       "  <thead>\n",
       "    <tr style=\"text-align: right;\">\n",
       "      <th></th>\n",
       "      <th>match_id</th>\n",
       "      <th>match_winner</th>\n",
       "      <th>manofmach</th>\n",
       "    </tr>\n",
       "  </thead>\n",
       "  <tbody>\n",
       "    <tr>\n",
       "      <th>0</th>\n",
       "      <td>335987</td>\n",
       "      <td>Kolkata Knight Riders</td>\n",
       "      <td>BB McCullum</td>\n",
       "    </tr>\n",
       "    <tr>\n",
       "      <th>1</th>\n",
       "      <td>335988</td>\n",
       "      <td>Chennai Super Kings</td>\n",
       "      <td>MEK Hussey</td>\n",
       "    </tr>\n",
       "    <tr>\n",
       "      <th>2</th>\n",
       "      <td>335989</td>\n",
       "      <td>Delhi Daredevils</td>\n",
       "      <td>MF Maharoof</td>\n",
       "    </tr>\n",
       "    <tr>\n",
       "      <th>3</th>\n",
       "      <td>335990</td>\n",
       "      <td>Royal Challengers Bangalore</td>\n",
       "      <td>MV Boucher</td>\n",
       "    </tr>\n",
       "    <tr>\n",
       "      <th>4</th>\n",
       "      <td>335991</td>\n",
       "      <td>Kolkata Knight Riders</td>\n",
       "      <td>DJ Hussey</td>\n",
       "    </tr>\n",
       "    <tr>\n",
       "      <th>...</th>\n",
       "      <td>...</td>\n",
       "      <td>...</td>\n",
       "      <td>...</td>\n",
       "    </tr>\n",
       "    <tr>\n",
       "      <th>632</th>\n",
       "      <td>1082646</td>\n",
       "      <td>Royal Challengers Bangalore</td>\n",
       "      <td>HV Patel</td>\n",
       "    </tr>\n",
       "    <tr>\n",
       "      <th>633</th>\n",
       "      <td>1082647</td>\n",
       "      <td>Rising Pune Supergiants</td>\n",
       "      <td>Wasington Sundar</td>\n",
       "    </tr>\n",
       "    <tr>\n",
       "      <th>634</th>\n",
       "      <td>1082648</td>\n",
       "      <td>Kolkata Knight Riders</td>\n",
       "      <td>NM Coulter-Nile</td>\n",
       "    </tr>\n",
       "    <tr>\n",
       "      <th>635</th>\n",
       "      <td>1082649</td>\n",
       "      <td>Mumbai Indians</td>\n",
       "      <td>KV Sharma</td>\n",
       "    </tr>\n",
       "    <tr>\n",
       "      <th>636</th>\n",
       "      <td>1082650</td>\n",
       "      <td>Mumbai Indians</td>\n",
       "      <td>KH Pandya</td>\n",
       "    </tr>\n",
       "  </tbody>\n",
       "</table>\n",
       "<p>637 rows × 3 columns</p>\n",
       "</div>"
      ],
      "text/plain": [
       "     match_id                 match_winner         manofmach\n",
       "0      335987        Kolkata Knight Riders       BB McCullum\n",
       "1      335988          Chennai Super Kings        MEK Hussey\n",
       "2      335989             Delhi Daredevils       MF Maharoof\n",
       "3      335990  Royal Challengers Bangalore        MV Boucher\n",
       "4      335991        Kolkata Knight Riders         DJ Hussey\n",
       "..        ...                          ...               ...\n",
       "632   1082646  Royal Challengers Bangalore          HV Patel\n",
       "633   1082647      Rising Pune Supergiants  Wasington Sundar\n",
       "634   1082648        Kolkata Knight Riders   NM Coulter-Nile\n",
       "635   1082649               Mumbai Indians         KV Sharma\n",
       "636   1082650               Mumbai Indians         KH Pandya\n",
       "\n",
       "[637 rows x 3 columns]"
      ]
     },
     "execution_count": 7,
     "metadata": {},
     "output_type": "execute_result"
    }
   ],
   "source": [
    "match_columns"
   ]
  },
  {
   "cell_type": "code",
   "execution_count": 8,
   "metadata": {},
   "outputs": [],
   "source": [
    "match_columns=match_columns.dropna(subset=['match_winner'])"
   ]
  },
  {
   "cell_type": "code",
   "execution_count": 9,
   "metadata": {},
   "outputs": [],
   "source": [
    "match_player = pd.merge(\n",
    "    match_columns,\n",
    "    player_columns[['match_id', 'player_name', 'player_team']],  \n",
    "    left_on=['match_id', 'manofmach'],  \n",
    "    right_on=['match_id', 'player_name'],  \n",
    "    how='left' \n",
    ")"
   ]
  },
  {
   "cell_type": "code",
   "execution_count": 10,
   "metadata": {},
   "outputs": [
    {
     "data": {
      "text/html": [
       "<div>\n",
       "<style scoped>\n",
       "    .dataframe tbody tr th:only-of-type {\n",
       "        vertical-align: middle;\n",
       "    }\n",
       "\n",
       "    .dataframe tbody tr th {\n",
       "        vertical-align: top;\n",
       "    }\n",
       "\n",
       "    .dataframe thead th {\n",
       "        text-align: right;\n",
       "    }\n",
       "</style>\n",
       "<table border=\"1\" class=\"dataframe\">\n",
       "  <thead>\n",
       "    <tr style=\"text-align: right;\">\n",
       "      <th></th>\n",
       "      <th>match_id</th>\n",
       "      <th>match_winner</th>\n",
       "      <th>manofmach</th>\n",
       "      <th>player_name</th>\n",
       "      <th>player_team</th>\n",
       "    </tr>\n",
       "  </thead>\n",
       "  <tbody>\n",
       "    <tr>\n",
       "      <th>0</th>\n",
       "      <td>335987</td>\n",
       "      <td>Kolkata Knight Riders</td>\n",
       "      <td>BB McCullum</td>\n",
       "      <td>BB McCullum</td>\n",
       "      <td>Kolkata Knight Riders</td>\n",
       "    </tr>\n",
       "    <tr>\n",
       "      <th>1</th>\n",
       "      <td>335988</td>\n",
       "      <td>Chennai Super Kings</td>\n",
       "      <td>MEK Hussey</td>\n",
       "      <td>MEK Hussey</td>\n",
       "      <td>Chennai Super Kings</td>\n",
       "    </tr>\n",
       "    <tr>\n",
       "      <th>2</th>\n",
       "      <td>335989</td>\n",
       "      <td>Delhi Daredevils</td>\n",
       "      <td>MF Maharoof</td>\n",
       "      <td>MF Maharoof</td>\n",
       "      <td>Delhi Daredevils</td>\n",
       "    </tr>\n",
       "    <tr>\n",
       "      <th>3</th>\n",
       "      <td>335990</td>\n",
       "      <td>Royal Challengers Bangalore</td>\n",
       "      <td>MV Boucher</td>\n",
       "      <td>MV Boucher</td>\n",
       "      <td>Royal Challengers Bangalore</td>\n",
       "    </tr>\n",
       "    <tr>\n",
       "      <th>4</th>\n",
       "      <td>335991</td>\n",
       "      <td>Kolkata Knight Riders</td>\n",
       "      <td>DJ Hussey</td>\n",
       "      <td>DJ Hussey</td>\n",
       "      <td>Kolkata Knight Riders</td>\n",
       "    </tr>\n",
       "    <tr>\n",
       "      <th>...</th>\n",
       "      <td>...</td>\n",
       "      <td>...</td>\n",
       "      <td>...</td>\n",
       "      <td>...</td>\n",
       "      <td>...</td>\n",
       "    </tr>\n",
       "    <tr>\n",
       "      <th>629</th>\n",
       "      <td>1082646</td>\n",
       "      <td>Royal Challengers Bangalore</td>\n",
       "      <td>HV Patel</td>\n",
       "      <td>HV Patel</td>\n",
       "      <td>Royal Challengers Bangalore</td>\n",
       "    </tr>\n",
       "    <tr>\n",
       "      <th>630</th>\n",
       "      <td>1082647</td>\n",
       "      <td>Rising Pune Supergiants</td>\n",
       "      <td>Wasington Sundar</td>\n",
       "      <td>NaN</td>\n",
       "      <td>NaN</td>\n",
       "    </tr>\n",
       "    <tr>\n",
       "      <th>631</th>\n",
       "      <td>1082648</td>\n",
       "      <td>Kolkata Knight Riders</td>\n",
       "      <td>NM Coulter-Nile</td>\n",
       "      <td>NM Coulter-Nile</td>\n",
       "      <td>Kolkata Knight Riders</td>\n",
       "    </tr>\n",
       "    <tr>\n",
       "      <th>632</th>\n",
       "      <td>1082649</td>\n",
       "      <td>Mumbai Indians</td>\n",
       "      <td>KV Sharma</td>\n",
       "      <td>KV Sharma</td>\n",
       "      <td>Mumbai Indians</td>\n",
       "    </tr>\n",
       "    <tr>\n",
       "      <th>633</th>\n",
       "      <td>1082650</td>\n",
       "      <td>Mumbai Indians</td>\n",
       "      <td>KH Pandya</td>\n",
       "      <td>KH Pandya</td>\n",
       "      <td>Mumbai Indians</td>\n",
       "    </tr>\n",
       "  </tbody>\n",
       "</table>\n",
       "<p>634 rows × 5 columns</p>\n",
       "</div>"
      ],
      "text/plain": [
       "     match_id                 match_winner         manofmach      player_name  \\\n",
       "0      335987        Kolkata Knight Riders       BB McCullum      BB McCullum   \n",
       "1      335988          Chennai Super Kings        MEK Hussey       MEK Hussey   \n",
       "2      335989             Delhi Daredevils       MF Maharoof      MF Maharoof   \n",
       "3      335990  Royal Challengers Bangalore        MV Boucher       MV Boucher   \n",
       "4      335991        Kolkata Knight Riders         DJ Hussey        DJ Hussey   \n",
       "..        ...                          ...               ...              ...   \n",
       "629   1082646  Royal Challengers Bangalore          HV Patel         HV Patel   \n",
       "630   1082647      Rising Pune Supergiants  Wasington Sundar              NaN   \n",
       "631   1082648        Kolkata Knight Riders   NM Coulter-Nile  NM Coulter-Nile   \n",
       "632   1082649               Mumbai Indians         KV Sharma        KV Sharma   \n",
       "633   1082650               Mumbai Indians         KH Pandya        KH Pandya   \n",
       "\n",
       "                     player_team  \n",
       "0          Kolkata Knight Riders  \n",
       "1            Chennai Super Kings  \n",
       "2               Delhi Daredevils  \n",
       "3    Royal Challengers Bangalore  \n",
       "4          Kolkata Knight Riders  \n",
       "..                           ...  \n",
       "629  Royal Challengers Bangalore  \n",
       "630                          NaN  \n",
       "631        Kolkata Knight Riders  \n",
       "632               Mumbai Indians  \n",
       "633               Mumbai Indians  \n",
       "\n",
       "[634 rows x 5 columns]"
      ]
     },
     "execution_count": 10,
     "metadata": {},
     "output_type": "execute_result"
    }
   ],
   "source": [
    "match_player"
   ]
  },
  {
   "cell_type": "code",
   "execution_count": null,
   "metadata": {},
   "outputs": [],
   "source": []
  }
 ],
 "metadata": {
  "kernelspec": {
   "display_name": "venv",
   "language": "python",
   "name": "python3"
  },
  "language_info": {
   "codemirror_mode": {
    "name": "ipython",
    "version": 3
   },
   "file_extension": ".py",
   "mimetype": "text/x-python",
   "name": "python",
   "nbconvert_exporter": "python",
   "pygments_lexer": "ipython3",
   "version": "3.11.5"
  }
 },
 "nbformat": 4,
 "nbformat_minor": 2
}
